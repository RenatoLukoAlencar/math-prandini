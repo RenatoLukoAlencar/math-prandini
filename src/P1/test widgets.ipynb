{
 "cells": [
  {
   "cell_type": "code",
   "execution_count": 1,
   "id": "27d3d55a",
   "metadata": {},
   "outputs": [
    {
     "data": {
      "application/vnd.jupyter.widget-view+json": {
       "model_id": "b8533d96928e4585b86def29a97ff3c8",
       "version_major": 2,
       "version_minor": 0
      },
      "text/plain": [
       "IntSlider(value=0)"
      ]
     },
     "metadata": {},
     "output_type": "display_data"
    },
    {
     "data": {
      "application/vnd.jupyter.widget-view+json": {
       "model_id": "6d1d4040579047d2aaacda2b9a4ede15",
       "version_major": 2,
       "version_minor": 0
      },
      "text/plain": [
       "Button(description='Update', style=ButtonStyle())"
      ]
     },
     "metadata": {},
     "output_type": "display_data"
    },
    {
     "data": {
      "application/vnd.jupyter.widget-view+json": {
       "model_id": "d8d51339657d484fb1a557ca2d01e638",
       "version_major": 2,
       "version_minor": 0
      },
      "text/plain": [
       "Output()"
      ]
     },
     "metadata": {},
     "output_type": "display_data"
    },
    {
     "data": {
      "application/vnd.jupyter.widget-view+json": {
       "model_id": "6cf389e36cba447ab4b07597d0b3bf39",
       "version_major": 2,
       "version_minor": 0
      },
      "text/plain": [
       "Canvas(height=200, sync_image_data=True, width=200)"
      ]
     },
     "execution_count": 1,
     "metadata": {},
     "output_type": "execute_result"
    }
   ],
   "source": [
    "from ipycanvas import Canvas\n",
    "import ipywidgets as widgets\n",
    "\n",
    "canvas = Canvas(width=200, height=200, sync_image_data=True)\n",
    "\n",
    "def save_to_file(*args, **kwargs):\n",
    "    canvas.to_file(\"img_1.png\")\n",
    "\n",
    "# Listen to changes on the ``image_data`` trait and call ``save_to_file`` when it changes.\n",
    "canvas.observe(save_to_file, \"image_data\")\n",
    "\n",
    "slide1 = widgets.IntSlider(max=100)\n",
    "display(slide1)\n",
    "\n",
    "recalculate_square = widgets.Button(description=\"Update\")\n",
    "output = widgets.Output()\n",
    "\n",
    "display(recalculate_square, output)\n",
    "\n",
    "def on_button_clicked(b):\n",
    "    with output:\n",
    "        canvas.clear()\n",
    "        canvas.fill_rect(0,0,slide1.value * 2 ,slide1.value*2)\n",
    "        \n",
    "recalculate_square.on_click(on_button_clicked)\n",
    "\n",
    "canvas.fill_style = \"red\"\n",
    "\n",
    "\n",
    "canvas"
   ]
  },
  {
   "cell_type": "code",
   "execution_count": null,
   "id": "3a1718ba",
   "metadata": {},
   "outputs": [],
   "source": []
  }
 ],
 "metadata": {
  "kernelspec": {
   "display_name": "Python 3 (ipykernel)",
   "language": "python",
   "name": "python3"
  },
  "language_info": {
   "codemirror_mode": {
    "name": "ipython",
    "version": 3
   },
   "file_extension": ".py",
   "mimetype": "text/x-python",
   "name": "python",
   "nbconvert_exporter": "python",
   "pygments_lexer": "ipython3",
   "version": "3.12.3"
  }
 },
 "nbformat": 4,
 "nbformat_minor": 5
}
