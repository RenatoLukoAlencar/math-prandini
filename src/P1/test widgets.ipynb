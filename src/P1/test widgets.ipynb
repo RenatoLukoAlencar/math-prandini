{
 "cells": [
  {
   "cell_type": "code",
   "execution_count": 4,
   "id": "27d3d55a",
   "metadata": {},
   "outputs": [
    {
     "data": {
      "application/vnd.jupyter.widget-view+json": {
       "model_id": "3189ec9546b4442d98e62d7b32af2006",
       "version_major": 2,
       "version_minor": 0
      },
      "text/plain": [
       "IntSlider(value=0)"
      ]
     },
     "metadata": {},
     "output_type": "display_data"
    },
    {
     "data": {
      "application/vnd.jupyter.widget-view+json": {
       "model_id": "fd8f6708ae674191b511a61a45369d15",
       "version_major": 2,
       "version_minor": 0
      },
      "text/plain": [
       "Button(description='Update', style=ButtonStyle())"
      ]
     },
     "metadata": {},
     "output_type": "display_data"
    },
    {
     "data": {
      "application/vnd.jupyter.widget-view+json": {
       "model_id": "8fb0603601da4b51b35e6f31a5a46730",
       "version_major": 2,
       "version_minor": 0
      },
      "text/plain": [
       "Output()"
      ]
     },
     "metadata": {},
     "output_type": "display_data"
    },
    {
     "data": {
      "application/vnd.jupyter.widget-view+json": {
       "model_id": "8009b23490834fa4a7bf2c047abb4d25",
       "version_major": 2,
       "version_minor": 0
      },
      "text/plain": [
       "Canvas(height=200, sync_image_data=True, width=200)"
      ]
     },
     "execution_count": 4,
     "metadata": {},
     "output_type": "execute_result"
    }
   ],
   "source": [
    "from ipycanvas import Canvas\n",
    "import ipywidgets as widgets\n",
    "\n",
    "canvas = Canvas(width=200, height=200, sync_image_data=True)\n",
    "\n",
    "def save_to_file(*args, **kwargs):\n",
    "    canvas.to_file(\"img_1.png\")\n",
    "\n",
    "# Listen to changes on the ``image_data`` trait and call ``save_to_file`` when it changes.\n",
    "canvas.observe(save_to_file, \"image_data\")\n",
    "\n",
    "slide1 = widgets.IntSlider(max=100)\n",
    "slide1.value = 50\n",
    "display(slide1)\n",
    "\n",
    "recalculate_square = widgets.Button(description=\"Update\")\n",
    "output = widgets.Output()\n",
    "\n",
    "display(recalculate_square, output)\n",
    "\n",
    "def on_button_clicked(b):\n",
    "    with output:\n",
    "        canvas.clear()\n",
    "        canvas.fill_rect(0,0,slide1.value * 2 ,slide1.value*2)\n",
    "        \n",
    "recalculate_square.on_click(on_button_clicked)\n",
    "\n",
    "canvas.fill_style = \"red\"\n",
    "\n",
    "\n",
    "canvas"
   ]
  },
  {
   "cell_type": "code",
   "execution_count": 1,
   "id": "3a1718ba",
   "metadata": {},
   "outputs": [
    {
     "data": {
      "image/png": "[encoded data removed]",
      "text/plain": [
       "<IPython.core.display.Image object>"
      ]
     },
     "execution_count": 1,
     "metadata": {},
     "output_type": "execute_result"
    }
   ],
   "source": [
    "from IPython.display import Image\n",
    "Image(filename=\"img_1.png\")"
   ]
  }
 ],
 "metadata": {
  "kernelspec": {
   "display_name": "Python 3 (ipykernel)",
   "language": "python",
   "name": "python3"
  },
  "language_info": {
   "codemirror_mode": {
    "name": "ipython",
    "version": 3
   },
   "file_extension": ".py",
   "mimetype": "text/x-python",
   "name": "python",
   "nbconvert_exporter": "python",
   "pygments_lexer": "ipython3",
   "version": "3.12.3"
  }
 },
 "nbformat": 4,
 "nbformat_minor": 5
}
